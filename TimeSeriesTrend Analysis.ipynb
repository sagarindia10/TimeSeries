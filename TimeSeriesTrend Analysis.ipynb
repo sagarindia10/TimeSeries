{
 "cells": [
  {
   "cell_type": "code",
   "execution_count": 2,
   "metadata": {},
   "outputs": [],
   "source": [
    "#Importing required Libraries\n",
    "\n",
    "import pandas as pd\n",
    "import numpy as np\n",
    "import matplotlib.pyplot as plt\n",
    "from sklearn import linear_model "
   ]
  },
  {
   "cell_type": "code",
   "execution_count": 3,
   "metadata": {},
   "outputs": [],
   "source": [
    "#creating a Dataframe\n",
    "df=pd.read_csv(r\"C:\\Users\\sagar\\Downloads\\tamo2.csv\",index_col=\"Date\",parse_dates=[\"Date\"])"
   ]
  },
  {
   "cell_type": "code",
   "execution_count": 4,
   "metadata": {},
   "outputs": [
    {
     "data": {
      "text/html": [
       "<div>\n",
       "<style scoped>\n",
       "    .dataframe tbody tr th:only-of-type {\n",
       "        vertical-align: middle;\n",
       "    }\n",
       "\n",
       "    .dataframe tbody tr th {\n",
       "        vertical-align: top;\n",
       "    }\n",
       "\n",
       "    .dataframe thead th {\n",
       "        text-align: right;\n",
       "    }\n",
       "</style>\n",
       "<table border=\"1\" class=\"dataframe\">\n",
       "  <thead>\n",
       "    <tr style=\"text-align: right;\">\n",
       "      <th></th>\n",
       "      <th>Symbol</th>\n",
       "      <th>Series</th>\n",
       "      <th>Prev Close</th>\n",
       "      <th>Open Price</th>\n",
       "      <th>High Price</th>\n",
       "      <th>Low Price</th>\n",
       "      <th>Last Price</th>\n",
       "      <th>Close Price</th>\n",
       "      <th>Average Price</th>\n",
       "      <th>Total Traded Quantity</th>\n",
       "      <th>Turnover</th>\n",
       "      <th>No. of Trades</th>\n",
       "      <th>Deliverable Qty</th>\n",
       "      <th>% Dly Qt to Traded Qty</th>\n",
       "    </tr>\n",
       "    <tr>\n",
       "      <th>Date</th>\n",
       "      <th></th>\n",
       "      <th></th>\n",
       "      <th></th>\n",
       "      <th></th>\n",
       "      <th></th>\n",
       "      <th></th>\n",
       "      <th></th>\n",
       "      <th></th>\n",
       "      <th></th>\n",
       "      <th></th>\n",
       "      <th></th>\n",
       "      <th></th>\n",
       "      <th></th>\n",
       "      <th></th>\n",
       "    </tr>\n",
       "  </thead>\n",
       "  <tbody>\n",
       "    <tr>\n",
       "      <th>2017-06-01</th>\n",
       "      <td>TATAMOTORS</td>\n",
       "      <td>EQ</td>\n",
       "      <td>476.15</td>\n",
       "      <td>476.95</td>\n",
       "      <td>479.70</td>\n",
       "      <td>473.55</td>\n",
       "      <td>477.00</td>\n",
       "      <td>476.65</td>\n",
       "      <td>476.60</td>\n",
       "      <td>3001232</td>\n",
       "      <td>1.430387e+09</td>\n",
       "      <td>40932</td>\n",
       "      <td>1269506</td>\n",
       "      <td>42.30</td>\n",
       "    </tr>\n",
       "    <tr>\n",
       "      <th>2017-06-02</th>\n",
       "      <td>TATAMOTORS</td>\n",
       "      <td>EQ</td>\n",
       "      <td>476.65</td>\n",
       "      <td>480.00</td>\n",
       "      <td>485.95</td>\n",
       "      <td>477.70</td>\n",
       "      <td>477.95</td>\n",
       "      <td>478.75</td>\n",
       "      <td>481.96</td>\n",
       "      <td>4319080</td>\n",
       "      <td>2.081632e+09</td>\n",
       "      <td>54392</td>\n",
       "      <td>1418366</td>\n",
       "      <td>32.84</td>\n",
       "    </tr>\n",
       "    <tr>\n",
       "      <th>2017-06-05</th>\n",
       "      <td>TATAMOTORS</td>\n",
       "      <td>EQ</td>\n",
       "      <td>478.75</td>\n",
       "      <td>478.30</td>\n",
       "      <td>481.90</td>\n",
       "      <td>475.20</td>\n",
       "      <td>478.60</td>\n",
       "      <td>478.15</td>\n",
       "      <td>478.48</td>\n",
       "      <td>2464819</td>\n",
       "      <td>1.179365e+09</td>\n",
       "      <td>37117</td>\n",
       "      <td>1054430</td>\n",
       "      <td>42.78</td>\n",
       "    </tr>\n",
       "    <tr>\n",
       "      <th>2017-06-06</th>\n",
       "      <td>TATAMOTORS</td>\n",
       "      <td>EQ</td>\n",
       "      <td>478.15</td>\n",
       "      <td>482.90</td>\n",
       "      <td>484.35</td>\n",
       "      <td>457.60</td>\n",
       "      <td>461.70</td>\n",
       "      <td>461.00</td>\n",
       "      <td>467.17</td>\n",
       "      <td>8016939</td>\n",
       "      <td>3.745259e+09</td>\n",
       "      <td>134732</td>\n",
       "      <td>3213087</td>\n",
       "      <td>40.08</td>\n",
       "    </tr>\n",
       "    <tr>\n",
       "      <th>2017-06-07</th>\n",
       "      <td>TATAMOTORS</td>\n",
       "      <td>EQ</td>\n",
       "      <td>461.00</td>\n",
       "      <td>462.55</td>\n",
       "      <td>463.65</td>\n",
       "      <td>453.50</td>\n",
       "      <td>458.60</td>\n",
       "      <td>458.00</td>\n",
       "      <td>457.44</td>\n",
       "      <td>5250544</td>\n",
       "      <td>2.401834e+09</td>\n",
       "      <td>83797</td>\n",
       "      <td>2326345</td>\n",
       "      <td>44.31</td>\n",
       "    </tr>\n",
       "  </tbody>\n",
       "</table>\n",
       "</div>"
      ],
      "text/plain": [
       "                Symbol Series  Prev Close  Open Price  High Price  Low Price  \\\n",
       "Date                                                                           \n",
       "2017-06-01  TATAMOTORS     EQ      476.15      476.95      479.70     473.55   \n",
       "2017-06-02  TATAMOTORS     EQ      476.65      480.00      485.95     477.70   \n",
       "2017-06-05  TATAMOTORS     EQ      478.75      478.30      481.90     475.20   \n",
       "2017-06-06  TATAMOTORS     EQ      478.15      482.90      484.35     457.60   \n",
       "2017-06-07  TATAMOTORS     EQ      461.00      462.55      463.65     453.50   \n",
       "\n",
       "            Last Price  Close Price  Average Price  Total Traded Quantity  \\\n",
       "Date                                                                        \n",
       "2017-06-01      477.00       476.65         476.60                3001232   \n",
       "2017-06-02      477.95       478.75         481.96                4319080   \n",
       "2017-06-05      478.60       478.15         478.48                2464819   \n",
       "2017-06-06      461.70       461.00         467.17                8016939   \n",
       "2017-06-07      458.60       458.00         457.44                5250544   \n",
       "\n",
       "                Turnover  No. of Trades  Deliverable Qty  \\\n",
       "Date                                                       \n",
       "2017-06-01  1.430387e+09          40932          1269506   \n",
       "2017-06-02  2.081632e+09          54392          1418366   \n",
       "2017-06-05  1.179365e+09          37117          1054430   \n",
       "2017-06-06  3.745259e+09         134732          3213087   \n",
       "2017-06-07  2.401834e+09          83797          2326345   \n",
       "\n",
       "            % Dly Qt to Traded Qty  \n",
       "Date                                \n",
       "2017-06-01                   42.30  \n",
       "2017-06-02                   32.84  \n",
       "2017-06-05                   42.78  \n",
       "2017-06-06                   40.08  \n",
       "2017-06-07                   44.31  "
      ]
     },
     "execution_count": 4,
     "metadata": {},
     "output_type": "execute_result"
    }
   ],
   "source": [
    "df.head()"
   ]
  },
  {
   "cell_type": "code",
   "execution_count": 5,
   "metadata": {},
   "outputs": [],
   "source": [
    "#this a Sub Dataframe of Dataframe df\n",
    "subdf=df[[\"Close Price\"]]"
   ]
  },
  {
   "cell_type": "code",
   "execution_count": 6,
   "metadata": {},
   "outputs": [
    {
     "data": {
      "text/html": [
       "<div>\n",
       "<style scoped>\n",
       "    .dataframe tbody tr th:only-of-type {\n",
       "        vertical-align: middle;\n",
       "    }\n",
       "\n",
       "    .dataframe tbody tr th {\n",
       "        vertical-align: top;\n",
       "    }\n",
       "\n",
       "    .dataframe thead th {\n",
       "        text-align: right;\n",
       "    }\n",
       "</style>\n",
       "<table border=\"1\" class=\"dataframe\">\n",
       "  <thead>\n",
       "    <tr style=\"text-align: right;\">\n",
       "      <th></th>\n",
       "      <th>Close Price</th>\n",
       "    </tr>\n",
       "    <tr>\n",
       "      <th>Date</th>\n",
       "      <th></th>\n",
       "    </tr>\n",
       "  </thead>\n",
       "  <tbody>\n",
       "    <tr>\n",
       "      <th>2017-06-01</th>\n",
       "      <td>476.65</td>\n",
       "    </tr>\n",
       "    <tr>\n",
       "      <th>2017-06-02</th>\n",
       "      <td>478.75</td>\n",
       "    </tr>\n",
       "    <tr>\n",
       "      <th>2017-06-05</th>\n",
       "      <td>478.15</td>\n",
       "    </tr>\n",
       "    <tr>\n",
       "      <th>2017-06-06</th>\n",
       "      <td>461.00</td>\n",
       "    </tr>\n",
       "    <tr>\n",
       "      <th>2017-06-07</th>\n",
       "      <td>458.00</td>\n",
       "    </tr>\n",
       "  </tbody>\n",
       "</table>\n",
       "</div>"
      ],
      "text/plain": [
       "            Close Price\n",
       "Date                   \n",
       "2017-06-01       476.65\n",
       "2017-06-02       478.75\n",
       "2017-06-05       478.15\n",
       "2017-06-06       461.00\n",
       "2017-06-07       458.00"
      ]
     },
     "execution_count": 6,
     "metadata": {},
     "output_type": "execute_result"
    }
   ],
   "source": [
    "subdf.head()"
   ]
  },
  {
   "cell_type": "code",
   "execution_count": 8,
   "metadata": {},
   "outputs": [
    {
     "name": "stderr",
     "output_type": "stream",
     "text": [
      "C:\\Users\\sagar\\Anaconda3\\lib\\site-packages\\ipykernel_launcher.py:2: SettingWithCopyWarning: \n",
      "A value is trying to be set on a copy of a slice from a DataFrame.\n",
      "Try using .loc[row_indexer,col_indexer] = value instead\n",
      "\n",
      "See the caveats in the documentation: http://pandas.pydata.org/pandas-docs/stable/indexing.html#indexing-view-versus-copy\n",
      "  \n"
     ]
    }
   ],
   "source": [
    "#22 Moving Average(MA) Considered\n",
    "subdf[\"MA22\"]=subdf[\"Close Price\"].rolling(22).mean()"
   ]
  },
  {
   "cell_type": "code",
   "execution_count": 20,
   "metadata": {},
   "outputs": [
    {
     "data": {
      "text/html": [
       "<div>\n",
       "<style scoped>\n",
       "    .dataframe tbody tr th:only-of-type {\n",
       "        vertical-align: middle;\n",
       "    }\n",
       "\n",
       "    .dataframe tbody tr th {\n",
       "        vertical-align: top;\n",
       "    }\n",
       "\n",
       "    .dataframe thead th {\n",
       "        text-align: right;\n",
       "    }\n",
       "</style>\n",
       "<table border=\"1\" class=\"dataframe\">\n",
       "  <thead>\n",
       "    <tr style=\"text-align: right;\">\n",
       "      <th></th>\n",
       "      <th>Close Price</th>\n",
       "      <th>MA22</th>\n",
       "    </tr>\n",
       "    <tr>\n",
       "      <th>Date</th>\n",
       "      <th></th>\n",
       "      <th></th>\n",
       "    </tr>\n",
       "  </thead>\n",
       "  <tbody>\n",
       "    <tr>\n",
       "      <th>2019-05-27</th>\n",
       "      <td>181.35</td>\n",
       "      <td>191.454545</td>\n",
       "    </tr>\n",
       "    <tr>\n",
       "      <th>2019-05-28</th>\n",
       "      <td>180.25</td>\n",
       "      <td>189.484091</td>\n",
       "    </tr>\n",
       "    <tr>\n",
       "      <th>2019-05-29</th>\n",
       "      <td>176.35</td>\n",
       "      <td>187.415909</td>\n",
       "    </tr>\n",
       "    <tr>\n",
       "      <th>2019-05-30</th>\n",
       "      <td>175.15</td>\n",
       "      <td>185.577273</td>\n",
       "    </tr>\n",
       "    <tr>\n",
       "      <th>2019-05-31</th>\n",
       "      <td>172.60</td>\n",
       "      <td>183.681818</td>\n",
       "    </tr>\n",
       "  </tbody>\n",
       "</table>\n",
       "</div>"
      ],
      "text/plain": [
       "            Close Price        MA22\n",
       "Date                               \n",
       "2019-05-27       181.35  191.454545\n",
       "2019-05-28       180.25  189.484091\n",
       "2019-05-29       176.35  187.415909\n",
       "2019-05-30       175.15  185.577273\n",
       "2019-05-31       172.60  183.681818"
      ]
     },
     "execution_count": 20,
     "metadata": {},
     "output_type": "execute_result"
    }
   ],
   "source": [
    "subdf.tail()"
   ]
  },
  {
   "cell_type": "code",
   "execution_count": 23,
   "metadata": {},
   "outputs": [
    {
     "name": "stderr",
     "output_type": "stream",
     "text": [
      "C:\\Users\\sagar\\Anaconda3\\lib\\site-packages\\ipykernel_launcher.py:2: SettingWithCopyWarning: \n",
      "A value is trying to be set on a copy of a slice from a DataFrame.\n",
      "Try using .loc[row_indexer,col_indexer] = value instead\n",
      "\n",
      "See the caveats in the documentation: http://pandas.pydata.org/pandas-docs/stable/indexing.html#indexing-view-versus-copy\n",
      "  \n",
      "C:\\Users\\sagar\\Anaconda3\\lib\\site-packages\\ipykernel_launcher.py:3: SettingWithCopyWarning: \n",
      "A value is trying to be set on a copy of a slice from a DataFrame.\n",
      "Try using .loc[row_indexer,col_indexer] = value instead\n",
      "\n",
      "See the caveats in the documentation: http://pandas.pydata.org/pandas-docs/stable/indexing.html#indexing-view-versus-copy\n",
      "  This is separate from the ipykernel package so we can avoid doing imports until\n"
     ]
    }
   ],
   "source": [
    "#To smooth out the 22MA, We created 22 Centered Moving Average(CMA)\n",
    "subdf[\"CMA22\"]=subdf[\"MA22\"].rolling(2).mean()\n",
    "#Shifting one position up for centering\n",
    "subdf[\"CMA22\"]=subdf[\"CMA22\"].shift(-1)"
   ]
  },
  {
   "cell_type": "code",
   "execution_count": 24,
   "metadata": {},
   "outputs": [
    {
     "data": {
      "text/html": [
       "<div>\n",
       "<style scoped>\n",
       "    .dataframe tbody tr th:only-of-type {\n",
       "        vertical-align: middle;\n",
       "    }\n",
       "\n",
       "    .dataframe tbody tr th {\n",
       "        vertical-align: top;\n",
       "    }\n",
       "\n",
       "    .dataframe thead th {\n",
       "        text-align: right;\n",
       "    }\n",
       "</style>\n",
       "<table border=\"1\" class=\"dataframe\">\n",
       "  <thead>\n",
       "    <tr style=\"text-align: right;\">\n",
       "      <th></th>\n",
       "      <th>Close Price</th>\n",
       "      <th>MA22</th>\n",
       "      <th>CMA22</th>\n",
       "    </tr>\n",
       "    <tr>\n",
       "      <th>Date</th>\n",
       "      <th></th>\n",
       "      <th></th>\n",
       "      <th></th>\n",
       "    </tr>\n",
       "  </thead>\n",
       "  <tbody>\n",
       "    <tr>\n",
       "      <th>2019-05-27</th>\n",
       "      <td>181.35</td>\n",
       "      <td>191.454545</td>\n",
       "      <td>190.469318</td>\n",
       "    </tr>\n",
       "    <tr>\n",
       "      <th>2019-05-28</th>\n",
       "      <td>180.25</td>\n",
       "      <td>189.484091</td>\n",
       "      <td>188.450000</td>\n",
       "    </tr>\n",
       "    <tr>\n",
       "      <th>2019-05-29</th>\n",
       "      <td>176.35</td>\n",
       "      <td>187.415909</td>\n",
       "      <td>186.496591</td>\n",
       "    </tr>\n",
       "    <tr>\n",
       "      <th>2019-05-30</th>\n",
       "      <td>175.15</td>\n",
       "      <td>185.577273</td>\n",
       "      <td>184.629545</td>\n",
       "    </tr>\n",
       "    <tr>\n",
       "      <th>2019-05-31</th>\n",
       "      <td>172.60</td>\n",
       "      <td>183.681818</td>\n",
       "      <td>NaN</td>\n",
       "    </tr>\n",
       "  </tbody>\n",
       "</table>\n",
       "</div>"
      ],
      "text/plain": [
       "            Close Price        MA22       CMA22\n",
       "Date                                           \n",
       "2019-05-27       181.35  191.454545  190.469318\n",
       "2019-05-28       180.25  189.484091  188.450000\n",
       "2019-05-29       176.35  187.415909  186.496591\n",
       "2019-05-30       175.15  185.577273  184.629545\n",
       "2019-05-31       172.60  183.681818         NaN"
      ]
     },
     "execution_count": 24,
     "metadata": {},
     "output_type": "execute_result"
    }
   ],
   "source": [
    "subdf.tail()"
   ]
  },
  {
   "cell_type": "code",
   "execution_count": 26,
   "metadata": {},
   "outputs": [
    {
     "name": "stderr",
     "output_type": "stream",
     "text": [
      "C:\\Users\\sagar\\Anaconda3\\lib\\site-packages\\ipykernel_launcher.py:2: SettingWithCopyWarning: \n",
      "A value is trying to be set on a copy of a slice from a DataFrame.\n",
      "Try using .loc[row_indexer,col_indexer] = value instead\n",
      "\n",
      "See the caveats in the documentation: http://pandas.pydata.org/pandas-docs/stable/indexing.html#indexing-view-versus-copy\n",
      "  \n"
     ]
    }
   ],
   "source": [
    "#We need to get the data of Sesonality and irregularity\n",
    "subdf[\"SeaIrr\"]=subdf[\"Close Price\"]/subdf[\"CMA22\"]"
   ]
  },
  {
   "cell_type": "code",
   "execution_count": 30,
   "metadata": {},
   "outputs": [
    {
     "name": "stderr",
     "output_type": "stream",
     "text": [
      "C:\\Users\\sagar\\Anaconda3\\lib\\site-packages\\ipykernel_launcher.py:14: SettingWithCopyWarning: \n",
      "A value is trying to be set on a copy of a slice from a DataFrame.\n",
      "Try using .loc[row_indexer,col_indexer] = value instead\n",
      "\n",
      "See the caveats in the documentation: http://pandas.pydata.org/pandas-docs/stable/indexing.html#indexing-view-versus-copy\n",
      "  \n"
     ]
    }
   ],
   "source": [
    "#Extracting Seasonal data\n",
    "z=[]\n",
    "k=[]\n",
    "for i in range(0,12):\n",
    "    z=subdf[\"SeaIrr\"][i+12:495:12]\n",
    "    k.append(z.mean())\n",
    "\n",
    "m=[]\n",
    "while len(m)<496:\n",
    "    for i in k:\n",
    "        m.append(i)\n",
    "x=m[0:495]\n",
    "\n",
    "subdf[\"Season\"]=x"
   ]
  },
  {
   "cell_type": "code",
   "execution_count": 31,
   "metadata": {},
   "outputs": [
    {
     "data": {
      "text/html": [
       "<div>\n",
       "<style scoped>\n",
       "    .dataframe tbody tr th:only-of-type {\n",
       "        vertical-align: middle;\n",
       "    }\n",
       "\n",
       "    .dataframe tbody tr th {\n",
       "        vertical-align: top;\n",
       "    }\n",
       "\n",
       "    .dataframe thead th {\n",
       "        text-align: right;\n",
       "    }\n",
       "</style>\n",
       "<table border=\"1\" class=\"dataframe\">\n",
       "  <thead>\n",
       "    <tr style=\"text-align: right;\">\n",
       "      <th></th>\n",
       "      <th>Close Price</th>\n",
       "      <th>MA22</th>\n",
       "      <th>CMA22</th>\n",
       "      <th>SeaIrr</th>\n",
       "      <th>Season</th>\n",
       "    </tr>\n",
       "    <tr>\n",
       "      <th>Date</th>\n",
       "      <th></th>\n",
       "      <th></th>\n",
       "      <th></th>\n",
       "      <th></th>\n",
       "      <th></th>\n",
       "    </tr>\n",
       "  </thead>\n",
       "  <tbody>\n",
       "    <tr>\n",
       "      <th>2019-05-27</th>\n",
       "      <td>181.35</td>\n",
       "      <td>191.454545</td>\n",
       "      <td>190.469318</td>\n",
       "      <td>0.952122</td>\n",
       "      <td>0.986161</td>\n",
       "    </tr>\n",
       "    <tr>\n",
       "      <th>2019-05-28</th>\n",
       "      <td>180.25</td>\n",
       "      <td>189.484091</td>\n",
       "      <td>188.450000</td>\n",
       "      <td>0.956487</td>\n",
       "      <td>0.987229</td>\n",
       "    </tr>\n",
       "    <tr>\n",
       "      <th>2019-05-29</th>\n",
       "      <td>176.35</td>\n",
       "      <td>187.415909</td>\n",
       "      <td>186.496591</td>\n",
       "      <td>0.945594</td>\n",
       "      <td>0.980252</td>\n",
       "    </tr>\n",
       "    <tr>\n",
       "      <th>2019-05-30</th>\n",
       "      <td>175.15</td>\n",
       "      <td>185.577273</td>\n",
       "      <td>184.629545</td>\n",
       "      <td>0.948656</td>\n",
       "      <td>0.980344</td>\n",
       "    </tr>\n",
       "    <tr>\n",
       "      <th>2019-05-31</th>\n",
       "      <td>172.60</td>\n",
       "      <td>183.681818</td>\n",
       "      <td>NaN</td>\n",
       "      <td>NaN</td>\n",
       "      <td>0.977820</td>\n",
       "    </tr>\n",
       "  </tbody>\n",
       "</table>\n",
       "</div>"
      ],
      "text/plain": [
       "            Close Price        MA22       CMA22    SeaIrr    Season\n",
       "Date                                                               \n",
       "2019-05-27       181.35  191.454545  190.469318  0.952122  0.986161\n",
       "2019-05-28       180.25  189.484091  188.450000  0.956487  0.987229\n",
       "2019-05-29       176.35  187.415909  186.496591  0.945594  0.980252\n",
       "2019-05-30       175.15  185.577273  184.629545  0.948656  0.980344\n",
       "2019-05-31       172.60  183.681818         NaN       NaN  0.977820"
      ]
     },
     "execution_count": 31,
     "metadata": {},
     "output_type": "execute_result"
    }
   ],
   "source": [
    "subdf.tail()"
   ]
  },
  {
   "cell_type": "code",
   "execution_count": 32,
   "metadata": {},
   "outputs": [
    {
     "name": "stderr",
     "output_type": "stream",
     "text": [
      "C:\\Users\\sagar\\Anaconda3\\lib\\site-packages\\ipykernel_launcher.py:2: SettingWithCopyWarning: \n",
      "A value is trying to be set on a copy of a slice from a DataFrame.\n",
      "Try using .loc[row_indexer,col_indexer] = value instead\n",
      "\n",
      "See the caveats in the documentation: http://pandas.pydata.org/pandas-docs/stable/indexing.html#indexing-view-versus-copy\n",
      "  \n"
     ]
    }
   ],
   "source": [
    "#Deseasoning the data\n",
    "subdf[\"Deseason\"]=subdf[\"Close Price\"]/subdf[\"Season\"]"
   ]
  },
  {
   "cell_type": "code",
   "execution_count": 34,
   "metadata": {},
   "outputs": [
    {
     "name": "stderr",
     "output_type": "stream",
     "text": [
      "C:\\Users\\sagar\\Anaconda3\\lib\\site-packages\\ipykernel_launcher.py:2: SettingWithCopyWarning: \n",
      "A value is trying to be set on a copy of a slice from a DataFrame.\n",
      "Try using .loc[row_indexer,col_indexer] = value instead\n",
      "\n",
      "See the caveats in the documentation: http://pandas.pydata.org/pandas-docs/stable/indexing.html#indexing-view-versus-copy\n",
      "  \n"
     ]
    }
   ],
   "source": [
    "#Days in x-axis to forecast data, so adding days column\n",
    "subdf[\"days\"]=range(1,496)"
   ]
  },
  {
   "cell_type": "code",
   "execution_count": 35,
   "metadata": {},
   "outputs": [
    {
     "data": {
      "text/html": [
       "<div>\n",
       "<style scoped>\n",
       "    .dataframe tbody tr th:only-of-type {\n",
       "        vertical-align: middle;\n",
       "    }\n",
       "\n",
       "    .dataframe tbody tr th {\n",
       "        vertical-align: top;\n",
       "    }\n",
       "\n",
       "    .dataframe thead th {\n",
       "        text-align: right;\n",
       "    }\n",
       "</style>\n",
       "<table border=\"1\" class=\"dataframe\">\n",
       "  <thead>\n",
       "    <tr style=\"text-align: right;\">\n",
       "      <th></th>\n",
       "      <th>Close Price</th>\n",
       "      <th>MA22</th>\n",
       "      <th>CMA22</th>\n",
       "      <th>SeaIrr</th>\n",
       "      <th>Season</th>\n",
       "      <th>Deseason</th>\n",
       "      <th>days</th>\n",
       "    </tr>\n",
       "    <tr>\n",
       "      <th>Date</th>\n",
       "      <th></th>\n",
       "      <th></th>\n",
       "      <th></th>\n",
       "      <th></th>\n",
       "      <th></th>\n",
       "      <th></th>\n",
       "      <th></th>\n",
       "    </tr>\n",
       "  </thead>\n",
       "  <tbody>\n",
       "    <tr>\n",
       "      <th>2019-05-27</th>\n",
       "      <td>181.35</td>\n",
       "      <td>191.454545</td>\n",
       "      <td>190.469318</td>\n",
       "      <td>0.952122</td>\n",
       "      <td>0.986161</td>\n",
       "      <td>183.895009</td>\n",
       "      <td>491</td>\n",
       "    </tr>\n",
       "    <tr>\n",
       "      <th>2019-05-28</th>\n",
       "      <td>180.25</td>\n",
       "      <td>189.484091</td>\n",
       "      <td>188.450000</td>\n",
       "      <td>0.956487</td>\n",
       "      <td>0.987229</td>\n",
       "      <td>182.581752</td>\n",
       "      <td>492</td>\n",
       "    </tr>\n",
       "    <tr>\n",
       "      <th>2019-05-29</th>\n",
       "      <td>176.35</td>\n",
       "      <td>187.415909</td>\n",
       "      <td>186.496591</td>\n",
       "      <td>0.945594</td>\n",
       "      <td>0.980252</td>\n",
       "      <td>179.902721</td>\n",
       "      <td>493</td>\n",
       "    </tr>\n",
       "    <tr>\n",
       "      <th>2019-05-30</th>\n",
       "      <td>175.15</td>\n",
       "      <td>185.577273</td>\n",
       "      <td>184.629545</td>\n",
       "      <td>0.948656</td>\n",
       "      <td>0.980344</td>\n",
       "      <td>178.661811</td>\n",
       "      <td>494</td>\n",
       "    </tr>\n",
       "    <tr>\n",
       "      <th>2019-05-31</th>\n",
       "      <td>172.60</td>\n",
       "      <td>183.681818</td>\n",
       "      <td>NaN</td>\n",
       "      <td>NaN</td>\n",
       "      <td>0.977820</td>\n",
       "      <td>176.515081</td>\n",
       "      <td>495</td>\n",
       "    </tr>\n",
       "  </tbody>\n",
       "</table>\n",
       "</div>"
      ],
      "text/plain": [
       "            Close Price        MA22       CMA22    SeaIrr    Season  \\\n",
       "Date                                                                  \n",
       "2019-05-27       181.35  191.454545  190.469318  0.952122  0.986161   \n",
       "2019-05-28       180.25  189.484091  188.450000  0.956487  0.987229   \n",
       "2019-05-29       176.35  187.415909  186.496591  0.945594  0.980252   \n",
       "2019-05-30       175.15  185.577273  184.629545  0.948656  0.980344   \n",
       "2019-05-31       172.60  183.681818         NaN       NaN  0.977820   \n",
       "\n",
       "              Deseason  days  \n",
       "Date                          \n",
       "2019-05-27  183.895009   491  \n",
       "2019-05-28  182.581752   492  \n",
       "2019-05-29  179.902721   493  \n",
       "2019-05-30  178.661811   494  \n",
       "2019-05-31  176.515081   495  "
      ]
     },
     "execution_count": 35,
     "metadata": {},
     "output_type": "execute_result"
    }
   ],
   "source": [
    "subdf.tail()"
   ]
  },
  {
   "cell_type": "code",
   "execution_count": 37,
   "metadata": {},
   "outputs": [
    {
     "data": {
      "text/plain": [
       "LinearRegression(copy_X=True, fit_intercept=True, n_jobs=1, normalize=False)"
      ]
     },
     "execution_count": 37,
     "metadata": {},
     "output_type": "execute_result"
    }
   ],
   "source": [
    "#Regression is used to predict price\n",
    "reg=linear_model.LinearRegression()\n",
    "reg.fit(subdf[[\"days\"]],subdf[[\"Deseason\"]])"
   ]
  },
  {
   "cell_type": "code",
   "execution_count": 38,
   "metadata": {},
   "outputs": [
    {
     "name": "stderr",
     "output_type": "stream",
     "text": [
      "C:\\Users\\sagar\\Anaconda3\\lib\\site-packages\\ipykernel_launcher.py:5: SettingWithCopyWarning: \n",
      "A value is trying to be set on a copy of a slice from a DataFrame.\n",
      "Try using .loc[row_indexer,col_indexer] = value instead\n",
      "\n",
      "See the caveats in the documentation: http://pandas.pydata.org/pandas-docs/stable/indexing.html#indexing-view-versus-copy\n",
      "  \"\"\"\n"
     ]
    }
   ],
   "source": [
    "p=[]\n",
    "for i in range(1,496):\n",
    "    p.append(float(reg.predict(i)))\n",
    "\n",
    "subdf[\"trend\"]=p"
   ]
  },
  {
   "cell_type": "code",
   "execution_count": 39,
   "metadata": {},
   "outputs": [
    {
     "name": "stderr",
     "output_type": "stream",
     "text": [
      "C:\\Users\\sagar\\Anaconda3\\lib\\site-packages\\ipykernel_launcher.py:1: SettingWithCopyWarning: \n",
      "A value is trying to be set on a copy of a slice from a DataFrame.\n",
      "Try using .loc[row_indexer,col_indexer] = value instead\n",
      "\n",
      "See the caveats in the documentation: http://pandas.pydata.org/pandas-docs/stable/indexing.html#indexing-view-versus-copy\n",
      "  \"\"\"Entry point for launching an IPython kernel.\n"
     ]
    }
   ],
   "source": [
    "#We show the forecasted data of the following Analysis\n",
    "subdf[\"Forecast\"]=subdf[\"Season\"]*subdf[\"trend\"]"
   ]
  },
  {
   "cell_type": "code",
   "execution_count": 43,
   "metadata": {},
   "outputs": [
    {
     "data": {
      "text/plain": [
       "<matplotlib.legend.Legend at 0x2451b89a860>"
      ]
     },
     "execution_count": 43,
     "metadata": {},
     "output_type": "execute_result"
    },
    {
     "data": {
      "image/png": "[encoded data removed]",
      "text/plain": [
       "<Figure size 432x288 with 1 Axes>"
      ]
     },
     "metadata": {
      "needs_background": "light"
     },
     "output_type": "display_data"
    }
   ],
   "source": [
    "plt.ylabel(\"Price\")\n",
    "plt.title(\"Tata Motors Time Series Forecast\")\n",
    "subdf[\"Forecast\"].plot()\n",
    "subdf[\"Close Price\"].plot()\n",
    "plt.legend()"
   ]
  },
  {
   "cell_type": "code",
   "execution_count": 42,
   "metadata": {},
   "outputs": [],
   "source": [
    "#Writing the data to csv\n",
    "subdf.to_csv(r\"C:\\Users\\sagar\\Desktop\\TimeSeriesFore1.csv\")"
   ]
  },
  {
   "cell_type": "code",
   "execution_count": null,
   "metadata": {},
   "outputs": [],
   "source": []
  }
 ],
 "metadata": {
  "kernelspec": {
   "display_name": "Python 3",
   "language": "python",
   "name": "python3"
  },
  "language_info": {
   "codemirror_mode": {
    "name": "ipython",
    "version": 3
   },
   "file_extension": ".py",
   "mimetype": "text/x-python",
   "name": "python",
   "nbconvert_exporter": "python",
   "pygments_lexer": "ipython3",
   "version": "3.7.0"
  }
 },
 "nbformat": 4,
 "nbformat_minor": 2
}
